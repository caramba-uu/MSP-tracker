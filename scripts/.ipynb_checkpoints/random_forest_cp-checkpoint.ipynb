{
 "cells": [
  {
   "cell_type": "code",
   "execution_count": null,
   "id": "e6ba4099",
   "metadata": {},
   "outputs": [],
   "source": [
    "import pandas as pd\n",
    "import numpy as np\n",
    "import os \n",
    "import copy\n",
    "import seaborn as sns\n",
    "import joblib\n",
    "\n",
    "from collections import Counter\n",
    "\n",
    "from sklearn.ensemble import RandomForestClassifier\n",
    "from sklearn.metrics import classification_report\n",
    "from sklearn.metrics import confusion_matrix\n",
    "from sklearn.model_selection import train_test_split\n",
    "from sklearn.neighbors import KNeighborsClassifier\n",
    "from sklearn.linear_model import LogisticRegression\n",
    "import matplotlib.pyplot as plt\n",
    "\n",
    "\n",
    "from crepes import WrapClassifier\n",
    "from nonconformist.icp import IcpClassifier\n",
    "from nonconformist.nc import ClassifierNc, MarginErrFunc\n",
    "from nonconformist.icp import IcpClassifier\n",
    "from nonconformist.base import ClassifierAdapter\n",
    "\n",
    "import shap"
   ]
  },
  {
   "cell_type": "markdown",
   "id": "9e88b751-273c-4489-847a-6b05468f4df3",
   "metadata": {},
   "source": [
    "# Reading data files"
   ]
  },
  {
   "cell_type": "code",
   "execution_count": null,
   "id": "ec21e62b",
   "metadata": {},
   "outputs": [],
   "source": [
    "# Reading input\n",
    "train_df = pd.read_csv(\"data_splits/train.csv\")\n",
    "valid_df = pd.read_csv(\"data_splits/valid.csv\")\n",
    "test_df = pd.read_csv(\"data_splits/test.csv\")\n",
    "calibration_df = pd.read_csv(\"data_splits/calibration.csv\")"
   ]
  },
  {
   "cell_type": "code",
   "execution_count": null,
   "id": "905c2f34",
   "metadata": {},
   "outputs": [],
   "source": [
    "# Selecting required features\n",
    "features =['edss value/score','age_at_visit' ,'sex_label',\n",
    "                'no_treatment', 'first_line_DMT', 'second_line_DMT', 'other_drugs', 'relapse_treatment_drugs','stem_cell_treatment',\n",
    "                'eq5d_score','age_at_eq5d',\n",
    "               'sdmt_score','age_at_sdmt',\n",
    "                'mono_on_sum','monofocal_sum','multi_focal_sum','afferent_non_on_sum','steroid_treatment_sum','is_last_relapse_steroid_treated','is_last_relapse_completely_remitted','age_at_relapse','revised_debut_age', 'age_at_debut_relapse',\n",
    "                't2_lesion_catagory', 'brain_barrier_lesion_catagory', 'spinal_barrier_lesion_catagory','age_at_mri']\n",
    "\n",
    "y_label = [\"y_label\"]"
   ]
  },
  {
   "cell_type": "code",
   "execution_count": null,
   "id": "c264934a",
   "metadata": {},
   "outputs": [],
   "source": [
    "# Concatnating train and valid df\n",
    "train_valid_df = pd.concat([train_df,valid_df])\n",
    "\n",
    "# Extracting required features from the data splits\n",
    "sub_train_df = copy.deepcopy(train_valid_df[features+y_label])\n",
    "X_train = sub_train_df[features].values\n",
    "y_train = sub_train_df[y_label].values\n",
    "        \n",
    "sub_calibration_df = copy.deepcopy(calibration_df[features+y_label])\n",
    "X_cal = sub_calibration_df[features].values\n",
    "y_cal = sub_calibration_df[y_label].values\n",
    "\n",
    "sub_test_df = copy.deepcopy(test_df[features+y_label])\n",
    "X_test = sub_test_df[features].values\n",
    "y_test = sub_test_df[y_label].values"
   ]
  },
  {
   "cell_type": "code",
   "execution_count": null,
   "id": "f386a83b",
   "metadata": {},
   "outputs": [],
   "source": [
    "x_train_df = sub_train_df[features]\n",
    "x_calibration_df = sub_calibration_df[features]\n",
    "x_test_df = sub_test_df[features]"
   ]
  },
  {
   "cell_type": "markdown",
   "id": "90527de5",
   "metadata": {},
   "source": [
    "# Training and saving the model"
   ]
  },
  {
   "cell_type": "code",
   "execution_count": null,
   "id": "e82ddcea",
   "metadata": {},
   "outputs": [],
   "source": [
    "# rf_parameters\n",
    "n_estimators=150 #100\n",
    "min_samples_leaf=5\n",
    "criterion=\"gini\"\n",
    "class_weight=\"balanced\"\n",
    "max_depth=None\n",
    "\n",
    "def lambda_fuction(x):\n",
    "    return x[1]\n",
    "    \n",
    "clf = RandomForestClassifier(n_estimators=n_estimators,\n",
    "                            min_samples_leaf=min_samples_leaf,\n",
    "                            criterion=criterion,\n",
    "                            class_weight=class_weight,\n",
    "                           max_depth=max_depth,\n",
    "                            n_jobs=-1)\n",
    "\n",
    "\n",
    "\n",
    "# Training the conformal model\n",
    "icp = IcpClassifier(ClassifierNc(ClassifierAdapter(clf),\n",
    "                                 MarginErrFunc()), condition=lambda_fuction)\n",
    "icp.fit(X_train, y_train)\n",
    "icp.calibrate(X_cal, y_cal.ravel())\n",
    "rf_model = icp.nc_function.model.model\n",
    "\n",
    "\n",
    "# Removing cal data from the model\n",
    "icp.cal_x=[]\n",
    "icp.cal_y=[]\n",
    "\n",
    "# Saving the model\n",
    "os.system(\"mkdir models\")\n",
    "joblib.dump(rf_model, \"models/rf.joblib\")\n",
    "joblib.dump(icp, \"models/icp.joblib\")"
   ]
  },
  {
   "cell_type": "markdown",
   "id": "aecd10e4",
   "metadata": {},
   "source": [
    "# Loading the model"
   ]
  },
  {
   "cell_type": "code",
   "execution_count": null,
   "id": "01e1d515-0cd4-4cd3-96ad-2eee4d30c28a",
   "metadata": {},
   "outputs": [],
   "source": [
    "rf_model = joblib.load(\"models/rf.joblib\")\n",
    "icp = joblib.load(\"models/icp.joblib\")"
   ]
  },
  {
   "cell_type": "markdown",
   "id": "85723e9d-b05c-4dea-a172-cd45ed13003f",
   "metadata": {},
   "source": [
    "# Getting test metrics"
   ]
  },
  {
   "cell_type": "code",
   "execution_count": null,
   "id": "e5019538",
   "metadata": {},
   "outputs": [],
   "source": [
    "from sklearn.metrics import roc_auc_score\n",
    "roc_auc_score(y_test, rf_model.predict_proba(X_test)[:,1])"
   ]
  },
  {
   "cell_type": "code",
   "execution_count": null,
   "id": "3eacbdda",
   "metadata": {},
   "outputs": [],
   "source": [
    "from sklearn.metrics import RocCurveDisplay\n",
    "ax = plt.gca()\n",
    "rfc_disp = RocCurveDisplay.from_estimator(rf_model, X_test, y_test, ax=ax, alpha=0.8)\n",
    "#rfc_disp.plot(ax=ax, alpha=0.8)\n",
    "plt.show()"
   ]
  },
  {
   "cell_type": "code",
   "execution_count": null,
   "id": "e975e7ce",
   "metadata": {},
   "outputs": [],
   "source": [
    "y_test_preds = np.argmax(rf_model.predict_proba(X_test),axis=1)\n",
    "cls_rprt = classification_report(y_test, y_test_preds)\n",
    "print (cls_rprt)"
   ]
  },
  {
   "cell_type": "markdown",
   "id": "4f315f1a-9222-4a38-93fd-fe36f6cb802c",
   "metadata": {},
   "source": [
    "# Conformal analysis"
   ]
  },
  {
   "cell_type": "markdown",
   "id": "30850032-8351-420a-8920-72f157eb7f10",
   "metadata": {},
   "source": [
    "## Downloading plotting scripts"
   ]
  },
  {
   "cell_type": "code",
   "execution_count": null,
   "id": "1afffde8-9881-4258-af52-568cd1f56af9",
   "metadata": {},
   "outputs": [],
   "source": [
    "! git clone https://github.com/pharmbio/plot_utils.git\n",
    "! cd plot_utils && git reset --hard 491d1f9"
   ]
  },
  {
   "cell_type": "markdown",
   "id": "a97bea86-4b2a-4450-9e72-85ea89bcc1bb",
   "metadata": {},
   "source": [
    "## CP plots"
   ]
  },
  {
   "cell_type": "code",
   "execution_count": null,
   "id": "0c8ce3e9-5677-47cd-9e75-63c7a2b27872",
   "metadata": {},
   "outputs": [],
   "source": [
    "import sys\n",
    "sys.path.append(\"plot_utils/python/src/\")\n",
    "from pharmbio.cp import metrics\n",
    "from pharmbio.cp import plotting\n",
    "np.set_printoptions(suppress=True)\n",
    "plt.rcParams.update({'font.size': 20})"
   ]
  },
  {
   "cell_type": "markdown",
   "id": "0b8ed5eb-8378-45f6-a227-623c1c857fbc",
   "metadata": {},
   "source": [
    "### Confusion metrix"
   ]
  },
  {
   "cell_type": "code",
   "execution_count": null,
   "id": "6d086532-45a0-4087-b9d5-8d1dea78e7c9",
   "metadata": {},
   "outputs": [],
   "source": [
    "test_pval = icp.predict(X_test)\n",
    "\n",
    "metrics.frac_errors(y_test, test_pval, sign_vals=[.15,.25])\n",
    "print (\"Observed fuzziness = \",metrics.obs_fuzziness(y_test, test_pval))\n",
    "CM = metrics.confusion_matrix(y_test, test_pval, sign=0.08, labels=[0,1])\n",
    "print (CM)"
   ]
  },
  {
   "cell_type": "markdown",
   "id": "4ae6c9e1-03e0-4d16-9d0f-de3d7147b7a7",
   "metadata": {},
   "source": [
    "### Calibration plot"
   ]
  },
  {
   "cell_type": "code",
   "execution_count": null,
   "id": "f9a74f00-f075-4e55-80a5-99849c11d09c",
   "metadata": {},
   "outputs": [],
   "source": [
    "line_args = {'alpha': 0.6, 'marker':\"*\", 'linestyle': '-.', 'linewidth':2.5}\n",
    "the_fig = plotting.plot_calibration_clf(y_test, \n",
    "                                          test_pval,\n",
    "                                          sign_vals=np.arange(0.0,1,0.001),\n",
    "                                          chart_padding=0.025,\n",
    "                                          labels=[\"RRMS\", \"SPMS\"], \n",
    "                                          **line_args)\n",
    "# Get the axes to make customizations on\n",
    "axes = the_fig.axes[0]\n",
    "# Set a custom title\n",
    "axes.set_title('Calibration plot', fontsize=22)\n",
    "# Add a new (custom) legend\n",
    "axes.legend(shadow=True,title='Prediction type')\n",
    "the_fig.savefig(\"calibration_plot.png\",dpi=300)"
   ]
  },
  {
   "cell_type": "markdown",
   "id": "6b7e7f03-a813-48e9-9355-2c51c94e6fec",
   "metadata": {},
   "source": [
    "### P0-P1 plot"
   ]
  },
  {
   "cell_type": "code",
   "execution_count": null,
   "id": "79a35ab2-8329-4f57-a8c5-9826f5754368",
   "metadata": {},
   "outputs": [],
   "source": [
    "kwargs = {'alpha': 0.75} #, 'linewidth': 10} #, 'fontsize': 30}\n",
    "font_args = None #{'fontsize':30}\n",
    "marks = ['o','x']\n",
    "s = [100, 200]\n",
    "p0p1 = plotting.plot_pvalues(y_test,test_pval,\n",
    "                             title='P0-P1 plot',\n",
    "                             sizes=s, \n",
    "                             markers=marks, \n",
    "                             labels=['RR', 'SP'],\n",
    "                             fontargs=font_args,\n",
    "                             **kwargs)"
   ]
  },
  {
   "cell_type": "markdown",
   "id": "92994218-2a3e-4b87-b391-10dde427ff1d",
   "metadata": {},
   "source": [
    "### Label distribution plot"
   ]
  },
  {
   "cell_type": "code",
   "execution_count": null,
   "id": "2c290462-5612-45b0-965f-5e41ff523905",
   "metadata": {},
   "outputs": [],
   "source": [
    "plt.rcParams.update({'font.size': 20})\n",
    "my_fig = plt.figure(figsize=(15,4))\n",
    "ax = my_fig.add_axes([0,0,1,1])\n",
    "custom_args = {'alpha': 1}\n",
    "fig = plotting.plot_label_distribution(y_true=y_test,p_values=test_pval,  tight_layout=True, ax=ax,display_incorrect=True,title=\"Label distribution plot\", **custom_args)\n",
    "fig.savefig(\"label_distribution_plot.png\",dpi=300,bbox_inches='tight')"
   ]
  },
  {
   "cell_type": "markdown",
   "id": "711166e1-087a-44de-b717-7811a114fa32",
   "metadata": {},
   "source": [
    "# SHAP\n",
    "## Calculating shap values"
   ]
  },
  {
   "cell_type": "code",
   "execution_count": null,
   "id": "e13ced3b",
   "metadata": {
    "scrolled": true
   },
   "outputs": [],
   "source": [
    "import shap\n",
    "feature_names_for_shap = [entry.replace(\"_\",\" \") for entry in list(x_test_df.columns)]\n",
    "feature_names_for_shap[feature_names_for_shap.index('revised debut age')] = \"debut age\"\n",
    "x_test_df.columns = feature_names_for_shap"
   ]
  },
  {
   "cell_type": "code",
   "execution_count": null,
   "id": "604fdb7f",
   "metadata": {},
   "outputs": [],
   "source": [
    "explainer = shap.Explainer(rf_model, x_test_df)\n",
    "shap_values = explainer(x_test_df,check_additivity=False)"
   ]
  },
  {
   "cell_type": "markdown",
   "id": "962f974d-8faf-41b4-a306-a8beec7304af",
   "metadata": {},
   "source": [
    "## Barplot (relative importance)"
   ]
  },
  {
   "cell_type": "code",
   "execution_count": null,
   "id": "ffbde7de",
   "metadata": {},
   "outputs": [],
   "source": [
    "plt.clf()\n",
    "shap.plots.bar(shap_values[:,:,1],show=False)\n",
    "plt.savefig(\"shap_barplot.png\",dpi=300, bbox_inches='tight')"
   ]
  },
  {
   "cell_type": "markdown",
   "id": "c69887ab-39ac-4f77-ac6b-d10379ca7a12",
   "metadata": {},
   "source": [
    "## Beeswarm plot (global importance)"
   ]
  },
  {
   "cell_type": "code",
   "execution_count": null,
   "id": "8a400004",
   "metadata": {},
   "outputs": [],
   "source": [
    "plt.clf()\n",
    "shap.plots.beeswarm(shap_values[:,:,1],show=False)\n",
    "plt.savefig(\"shap_beeswarm_plot.png\",dpi=300, bbox_inches='tight')"
   ]
  },
  {
   "cell_type": "markdown",
   "id": "748edc94-8e01-4b87-83ff-6af4a6ee3927",
   "metadata": {},
   "source": [
    "## Violin plot"
   ]
  },
  {
   "cell_type": "code",
   "execution_count": null,
   "id": "a3ffd7eb",
   "metadata": {},
   "outputs": [],
   "source": [
    "shap.plots.violin(shap_values[:,:,1])"
   ]
  },
  {
   "cell_type": "code",
   "execution_count": null,
   "id": "76b58889-c2b9-4066-857f-1dd694ff8cb9",
   "metadata": {},
   "outputs": [],
   "source": []
  }
 ],
 "metadata": {
  "kernelspec": {
   "display_name": "Python [conda env:base] *",
   "language": "python",
   "name": "conda-base-py"
  },
  "language_info": {
   "codemirror_mode": {
    "name": "ipython",
    "version": 3
   },
   "file_extension": ".py",
   "mimetype": "text/x-python",
   "name": "python",
   "nbconvert_exporter": "python",
   "pygments_lexer": "ipython3",
   "version": "3.10.12"
  }
 },
 "nbformat": 4,
 "nbformat_minor": 5
}
